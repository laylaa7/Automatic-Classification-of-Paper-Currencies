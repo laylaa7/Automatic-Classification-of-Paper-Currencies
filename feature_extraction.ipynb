{
 "cells": [
  {
   "cell_type": "code",
   "execution_count": 5,
   "metadata": {},
   "outputs": [],
   "source": [
    "import cv2\n",
    "import numpy as np\n",
    "from skimage.feature import hog\n",
    "import os"
   ]
  },
  {
   "cell_type": "code",
   "execution_count": 11,
   "metadata": {},
   "outputs": [
    {
     "name": "stdout",
     "output_type": "stream",
     "text": [
      "[0.         0.         0.00199491 ... 0.00299237 0.00099746 0.00199491]\n"
     ]
    }
   ],
   "source": [
    "def extract_rgb_histogram(image, bins=(32, 32, 32)):\n",
    "    \"\"\"\n",
    "    Compute the RGB histogram for an image.\n",
    "    Args:\n",
    "        image: Input image as a NumPy array.\n",
    "        bins: Number of bins for each channel.\n",
    "    Returns:\n",
    "        Flattened and normalized histogram as a NumPy array.\n",
    "    \"\"\"\n",
    "    # Compute histogram for each channel\n",
    "    hist = cv2.calcHist([image], [0, 1, 2], None, bins, [0, 256, 0, 256, 0, 256])\n",
    "    # Normalize the histogram\n",
    "    hist = cv2.normalize(hist, hist).flatten()\n",
    "    return hist\n",
    "\n",
    "\n",
    "image = cv2.imread(\"data_normalized/train/1-front/IMG_2031_jpg.rf.14a279d79af06b2a455146268550e03e.jpg\")\n",
    "features = extract_rgb_histogram(image)\n",
    "print(features)"
   ]
  },
  {
   "cell_type": "code",
   "execution_count": 7,
   "metadata": {},
   "outputs": [],
   "source": [
    "def extract_hog_features(image, pixels_per_cell=(8, 8), cells_per_block=(2, 2), orientations=9):\n",
    "    \"\"\"\n",
    "    Compute HOG features for an image.\n",
    "    Args:\n",
    "        image: Input image as a NumPy array.\n",
    "        pixels_per_cell: Size of the cell in pixels.\n",
    "        cells_per_block: Number of cells per block.\n",
    "        orientations: Number of orientation bins.\n",
    "    Returns:\n",
    "        HOG feature vector as a NumPy array.\n",
    "    \"\"\"\n",
    "    # Convert image to grayscale\n",
    "    gray_image = cv2.cvtColor(image, cv2.COLOR_BGR2GRAY)\n",
    "    # Compute HOG features\n",
    "    hog_features = hog(\n",
    "        gray_image,\n",
    "        orientations=orientations,\n",
    "        pixels_per_cell=pixels_per_cell,\n",
    "        cells_per_block=cells_per_block,\n",
    "        block_norm='L2-Hys',\n",
    "        transform_sqrt=True,\n",
    "        feature_vector=True\n",
    "    )\n",
    "    return hog_features"
   ]
  },
  {
   "cell_type": "code",
   "execution_count": 8,
   "metadata": {},
   "outputs": [],
   "source": [
    "def extract_combined_features(image):\n",
    "    \"\"\"\n",
    "    Combine RGB histogram and HOG features for an image.\n",
    "    Args:\n",
    "        image: Input image as a NumPy array.\n",
    "    Returns:\n",
    "        Combined feature vector as a NumPy array.\n",
    "    \"\"\"\n",
    "    rgb_hist = extract_rgb_histogram(image)\n",
    "    hog_features = extract_hog_features(image)\n",
    "    combined_features = np.concatenate([rgb_hist, hog_features])\n",
    "    return combined_features\n"
   ]
  },
  {
   "cell_type": "code",
   "execution_count": 9,
   "metadata": {},
   "outputs": [],
   "source": [
    "def process_dataset(input_dir, feature_extractor):\n",
    "    \"\"\"\n",
    "    Process all images in a dataset directory and extract features.\n",
    "    Args:\n",
    "        input_dir: Path to the dataset directory.\n",
    "        feature_extractor: Feature extraction function (e.g., extract_rgb_histogram or extract_combined_features).\n",
    "    Returns:\n",
    "        A tuple (features, labels) where:\n",
    "            features: Feature matrix as a NumPy array.\n",
    "            labels: List of corresponding labels.\n",
    "    \"\"\"\n",
    "    features = []\n",
    "    labels = []\n",
    "\n",
    "    for root, _, files in os.walk(input_dir):\n",
    "        for file in files:\n",
    "            if file.endswith(('.png', '.jpg', '.jpeg')):\n",
    "                img_path = os.path.join(root, file)\n",
    "                image = cv2.imread(img_path)\n",
    "                # Extract features\n",
    "                feature_vector = feature_extractor(image)\n",
    "                features.append(feature_vector)\n",
    "                # Use the folder name as the label\n",
    "                label = os.path.basename(root)\n",
    "                labels.append(label)\n",
    "\n",
    "    return np.array(features), np.array(labels)\n",
    "\n",
    "# Example usage\n",
    "train_features, train_labels = process_dataset(\"data_normalized/train\", extract_combined_features)\n",
    "val_features, val_labels = process_dataset(\"data_normalized/val\", extract_combined_features)\n",
    "test_features, test_labels = process_dataset(\"data_normalized/test\", extract_combined_features)"
   ]
  },
  {
   "cell_type": "code",
   "execution_count": 12,
   "metadata": {},
   "outputs": [
    {
     "name": "stdout",
     "output_type": "stream",
     "text": [
      "Feature extraction complete and saved!\n"
     ]
    }
   ],
   "source": [
    "# Define directories for train, val, and test\n",
    "train_dir = \"data_normalized/train\"\n",
    "val_dir = \"data_normalized/val\"\n",
    "test_dir = \"data_normalized/test\"\n",
    "\n",
    "# Extract features for all splits\n",
    "train_features, train_labels = process_dataset(train_dir, extract_combined_features)\n",
    "val_features, val_labels = process_dataset(val_dir, extract_combined_features)\n",
    "test_features, test_labels = process_dataset(test_dir, extract_combined_features)\n",
    "\n",
    "# Save the features and labels to files\n",
    "import pickle\n",
    "\n",
    "with open(\"features_train.pkl\", \"wb\") as f:\n",
    "    pickle.dump((train_features, train_labels), f)\n",
    "\n",
    "with open(\"features_val.pkl\", \"wb\") as f:\n",
    "    pickle.dump((val_features, val_labels), f)\n",
    "\n",
    "with open(\"features_test.pkl\", \"wb\") as f:\n",
    "    pickle.dump((test_features, test_labels), f)\n",
    "\n",
    "print(\"Feature extraction complete and saved!\")\n"
   ]
  }
 ],
 "metadata": {
  "kernelspec": {
   "display_name": "venv",
   "language": "python",
   "name": "python3"
  },
  "language_info": {
   "codemirror_mode": {
    "name": "ipython",
    "version": 3
   },
   "file_extension": ".py",
   "mimetype": "text/x-python",
   "name": "python",
   "nbconvert_exporter": "python",
   "pygments_lexer": "ipython3",
   "version": "3.12.1"
  }
 },
 "nbformat": 4,
 "nbformat_minor": 2
}
