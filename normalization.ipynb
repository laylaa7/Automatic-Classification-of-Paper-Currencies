{
 "cells": [
  {
   "cell_type": "code",
   "execution_count": 2,
   "metadata": {},
   "outputs": [],
   "source": [
    "import os\n",
    "import cv2\n",
    "import numpy as np"
   ]
  },
  {
   "cell_type": "code",
   "execution_count": 7,
   "metadata": {},
   "outputs": [],
   "source": [
    "def normalize_image(image, method=\"min-max\", mean=None, std=None):\n",
    "    \"\"\"\n",
    "    Normalize an image.\n",
    "    Args:\n",
    "        image: Input image as a NumPy array.\n",
    "        method: \"min-max\" or \"standardization\".\n",
    "        mean: Mean value for standardization (required if method=\"standardization\").\n",
    "        std: Standard deviation for standardization (required if method=\"standardization\").\n",
    "    Returns:\n",
    "        Normalized image as a NumPy array.\n",
    "    \"\"\"\n",
    "    image = image.astype('float32')\n",
    "    if method == \"min-max\":\n",
    "        return image / 255.0\n",
    "    elif method == \"standardization\":\n",
    "        if mean is None or std is None:\n",
    "            raise ValueError(\"Mean and std are required for standardization.\")\n",
    "        return (image - mean) / std\n",
    "    else:\n",
    "        raise ValueError(\"Invalid method. Choose 'min-max' or 'standardization'.\")\n",
    "\n",
    "def process_and_save_images(input_dir, output_dir, method=\"min-max\", mean=None, std=None):\n",
    "    \"\"\"\n",
    "    Normalize images in a directory and save them to a new directory.\n",
    "    Args:\n",
    "        input_dir: Path to the input directory containing images.\n",
    "        output_dir: Path to the output directory to save normalized images.\n",
    "        method: \"min-max\" or \"standardization\".\n",
    "        mean: Mean value for standardization.\n",
    "        std: Standard deviation for standardization.\n",
    "    \"\"\"\n",
    "    if not os.path.exists(output_dir):\n",
    "        os.makedirs(output_dir)\n",
    "\n",
    "    for root, _, files in os.walk(input_dir):\n",
    "        # Create corresponding output subdirectory\n",
    "        relative_path = os.path.relpath(root, input_dir)\n",
    "        output_subdir = os.path.join(output_dir, relative_path)\n",
    "        if not os.path.exists(output_subdir):\n",
    "            os.makedirs(output_subdir)\n",
    "\n",
    "        for file in files:\n",
    "            if file.endswith(('.png', '.jpg', '.jpeg')):  # Add more extensions if needed\n",
    "                img_path = os.path.join(root, file)\n",
    "                image = cv2.imread(img_path)\n",
    "                normalized_image = normalize_image(image, method, mean, std)\n",
    "                # Save the normalized image\n",
    "                output_path = os.path.join(output_subdir, file)\n",
    "                cv2.imwrite(output_path, (normalized_image * 255).astype('uint8'))\n",
    "\n",
    "# Paths to your data"
   ]
  },
  {
   "cell_type": "code",
   "execution_count": 9,
   "metadata": {},
   "outputs": [],
   "source": [
    "# Paths to your data\n",
    "train_dir = \"data/split_dataset/train\"\n",
    "val_dir = \"data/split_dataset/val\"\n",
    "test_dir = \"data/split_dataset/test\"\n",
    "output_dir = \"data_normalized\"\n",
    "\n",
    "# Calculate mean and std from training images for standardization\n",
    "train_images = []\n",
    "for root, _, files in os.walk(train_dir):\n",
    "    for file in files:\n",
    "        if file.endswith(('.png', '.jpg', '.jpeg')):\n",
    "            img_path = os.path.join(root, file)\n",
    "            image = cv2.imread(img_path).astype('float32') / 255.0\n",
    "            train_images.append(image)\n",
    "\n",
    "train_images = np.array(train_images)\n",
    "mean = train_images.mean(axis=(0, 1, 2))  # Mean per channel\n",
    "std = train_images.std(axis=(0, 1, 2))    # Std per channel\n",
    "\n",
    "# Process and save images\n",
    "process_and_save_images(train_dir, os.path.join(output_dir, \"train\"), method=\"standardization\", mean=mean, std=std)\n",
    "process_and_save_images(val_dir, os.path.join(output_dir, \"val\"), method=\"standardization\", mean=mean, std=std)\n",
    "process_and_save_images(test_dir, os.path.join(output_dir, \"test\"), method=\"standardization\", mean=mean, std=std)"
   ]
  }
 ],
 "metadata": {
  "kernelspec": {
   "display_name": "venv",
   "language": "python",
   "name": "python3"
  },
  "language_info": {
   "codemirror_mode": {
    "name": "ipython",
    "version": 3
   },
   "file_extension": ".py",
   "mimetype": "text/x-python",
   "name": "python",
   "nbconvert_exporter": "python",
   "pygments_lexer": "ipython3",
   "version": "3.12.1"
  }
 },
 "nbformat": 4,
 "nbformat_minor": 2
}
